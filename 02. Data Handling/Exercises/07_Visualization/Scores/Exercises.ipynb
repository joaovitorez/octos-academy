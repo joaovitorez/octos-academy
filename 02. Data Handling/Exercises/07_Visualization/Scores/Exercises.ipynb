{
 "cells": [
  {
   "cell_type": "markdown",
   "metadata": {},
   "source": [
    "# Scores"
   ]
  },
  {
   "cell_type": "markdown",
   "metadata": {},
   "source": [
    "### Introduction:\n",
    "\n",
    "This time you will create the data.\n",
    "\n",
    "***Exercise based on [Chris Albon](http://chrisalbon.com/) work, the credits belong to him.***\n",
    "\n",
    "### Step 1. Import the necessary libraries"
   ]
  },
  {
   "cell_type": "code",
   "execution_count": 105,
   "metadata": {},
   "outputs": [],
   "source": [
    "import pandas as pd\n",
    "import matplotlib.pyplot as plt\n",
    "import numpy as np\n",
    "\n",
    "%matplotlib inline"
   ]
  },
  {
   "cell_type": "markdown",
   "metadata": {},
   "source": [
    "### Step 2. Create the DataFrame that should look like the one below."
   ]
  },
  {
   "cell_type": "code",
   "execution_count": 106,
   "metadata": {},
   "outputs": [
    {
     "data": {
      "text/html": [
       "<div>\n",
       "<style scoped>\n",
       "    .dataframe tbody tr th:only-of-type {\n",
       "        vertical-align: middle;\n",
       "    }\n",
       "\n",
       "    .dataframe tbody tr th {\n",
       "        vertical-align: top;\n",
       "    }\n",
       "\n",
       "    .dataframe thead th {\n",
       "        text-align: right;\n",
       "    }\n",
       "</style>\n",
       "<table border=\"1\" class=\"dataframe\">\n",
       "  <thead>\n",
       "    <tr style=\"text-align: right;\">\n",
       "      <th></th>\n",
       "      <th>first_name</th>\n",
       "      <th>last_name</th>\n",
       "      <th>age</th>\n",
       "      <th>female</th>\n",
       "      <th>preTestScore</th>\n",
       "      <th>posTestScore</th>\n",
       "    </tr>\n",
       "  </thead>\n",
       "  <tbody>\n",
       "    <tr>\n",
       "      <th>0</th>\n",
       "      <td>Jason</td>\n",
       "      <td>Miller</td>\n",
       "      <td>42</td>\n",
       "      <td>0</td>\n",
       "      <td>4</td>\n",
       "      <td>25</td>\n",
       "    </tr>\n",
       "    <tr>\n",
       "      <th>1</th>\n",
       "      <td>Molly</td>\n",
       "      <td>Jacobson</td>\n",
       "      <td>52</td>\n",
       "      <td>1</td>\n",
       "      <td>24</td>\n",
       "      <td>94</td>\n",
       "    </tr>\n",
       "    <tr>\n",
       "      <th>2</th>\n",
       "      <td>Tina</td>\n",
       "      <td>Ali</td>\n",
       "      <td>36</td>\n",
       "      <td>1</td>\n",
       "      <td>31</td>\n",
       "      <td>57</td>\n",
       "    </tr>\n",
       "    <tr>\n",
       "      <th>3</th>\n",
       "      <td>Jake</td>\n",
       "      <td>Milner</td>\n",
       "      <td>24</td>\n",
       "      <td>0</td>\n",
       "      <td>2</td>\n",
       "      <td>62</td>\n",
       "    </tr>\n",
       "    <tr>\n",
       "      <th>4</th>\n",
       "      <td>Amy</td>\n",
       "      <td>Cooze</td>\n",
       "      <td>73</td>\n",
       "      <td>1</td>\n",
       "      <td>3</td>\n",
       "      <td>70</td>\n",
       "    </tr>\n",
       "  </tbody>\n",
       "</table>\n",
       "</div>"
      ],
      "text/plain": [
       "  first_name last_name  age  female  preTestScore  posTestScore\n",
       "0      Jason    Miller   42       0             4            25\n",
       "1      Molly  Jacobson   52       1            24            94\n",
       "2       Tina       Ali   36       1            31            57\n",
       "3       Jake    Milner   24       0             2            62\n",
       "4        Amy     Cooze   73       1             3            70"
      ]
     },
     "execution_count": 106,
     "metadata": {},
     "output_type": "execute_result"
    }
   ],
   "source": [
    "first_name = pd.Series(['Jason', 'Molly', 'Tina', 'Jake', 'Amy']) \n",
    "last_name = pd.Series(['Miller', 'Jacobson', 'Ali', 'Milner', 'Cooze'])\n",
    "age = pd.Series([42, 52, 36, 24, 73])\n",
    "female = pd.Series([0, 1, 1, 0, 1])\n",
    "preTestScore = pd.Series([4, 24, 31, 2, 3])\n",
    "posTestScore  = pd.Series([25, 94, 57, 62, 70])\n",
    "\n",
    "df = pd.DataFrame({'first_name':first_name, 'last_name':last_name, \n",
    "                   'age':age, 'female':female, 'preTestScore':preTestScore, \n",
    "                   'posTestScore':posTestScore})\n",
    "df"
   ]
  },
  {
   "cell_type": "markdown",
   "metadata": {},
   "source": [
    "### Step 3. Create a Scatterplot of preTestScore and postTestScore, with the size of each point determined by age\n",
    "#### Hint: Don't forget to place the labels"
   ]
  },
  {
   "cell_type": "code",
   "execution_count": 107,
   "metadata": {},
   "outputs": [
    {
     "data": {
      "image/png": "[encoded data removed]",
      "text/plain": [
       "<matplotlib.figure.Figure at 0x7f87b2aa6710>"
      ]
     },
     "metadata": {
      "needs_background": "light"
     },
     "output_type": "display_data"
    }
   ],
   "source": [
    "preTestScore = plt.scatter(df.preTestScore.values, df.posTestScore.values, s=df.age.values)\n",
    "\n",
    "plt.title('PreTestScore x PosTestScore')\n",
    "plt.xlabel('PreTestScore')\n",
    "plt.ylabel('PosTestScore')\n",
    "\n",
    "#Cria dicionario com primeiro nome e coordenadas do ponto\n",
    "dicionario = {df.first_name[i]: tuple([df.preTestScore[i], df.posTestScore[i]])\n",
    "             for i in range(len(df))}\n",
    "\n",
    "#output: dicionario = {'Jason': (4, 25),'Molly': (24, 94),'Tina': (31, 57),'Jake': (2, 62),'Amy': (3, 70)}\n",
    "\n",
    "#Anota em cada ponto o primeiro nome\n",
    "for j in dicionario:\n",
    "    \n",
    "    #plt.annotate pede label e as coordenadas do ponto\n",
    "    plt.annotate(str(j), dicionario[str(j)])"
   ]
  },
  {
   "cell_type": "markdown",
   "metadata": {},
   "source": [
    "### Step 4. Create a Scatterplot of preTestScore and postTestScore.\n",
    "### This time the size should be 4.5 times the postTestScore and the color determined by sex"
   ]
  },
  {
   "cell_type": "code",
   "execution_count": 108,
   "metadata": {},
   "outputs": [
    {
     "data": {
      "text/plain": [
       "<matplotlib.text.Text at 0x7f87b295a0b8>"
      ]
     },
     "execution_count": 108,
     "metadata": {},
     "output_type": "execute_result"
    },
    {
     "data": {
      "image/png": "[encoded data removed]",
      "text/plain": [
       "<matplotlib.figure.Figure at 0x7f87b3bab898>"
      ]
     },
     "metadata": {
      "needs_background": "light"
     },
     "output_type": "display_data"
    }
   ],
   "source": [
    "rosa = '#FF69B4'\n",
    "azul = '#4169E1'\n",
    "\n",
    "'''\n",
    "Tentei usar, mas não deu certo, pois em vez de lista o output foi um 'generator'(?)\n",
    "\n",
    "color=[]\n",
    "color.append(rosa if i==1 else azul \n",
    "            for i in df.female.values)\n",
    "'''\n",
    "\n",
    "color = []\n",
    "for i in df.female.values:\n",
    "    \n",
    "    #azul se for mulher, rosa se for homem\n",
    "    if i == 1:\n",
    "        color.append(azul)\n",
    "    else:\n",
    "        color.append(rosa)\n",
    "\n",
    "preTestScore2 = plt.scatter(df.preTestScore.values, df.posTestScore.values, \n",
    "                            s=4*df.posTestScore.values, c=color)\n",
    "\n",
    "plt.title('PreTestScore x PosTestScore')\n",
    "plt.xlabel('PreTestScore')\n",
    "plt.ylabel('PosTestScore')"
   ]
  },
  {
   "cell_type": "markdown",
   "metadata": {},
   "source": [
    "### BONUS: Create your own question and answer it."
   ]
  },
  {
   "cell_type": "markdown",
   "metadata": {
    "collapsed": true
   },
   "source": [
    "#### Criar gráfico de barras agrupadas com os resultados"
   ]
  },
  {
   "cell_type": "code",
   "execution_count": 113,
   "metadata": {},
   "outputs": [
    {
     "data": {
      "text/plain": [
       "<matplotlib.legend.Legend at 0x7f87b25c3390>"
      ]
     },
     "execution_count": 113,
     "metadata": {},
     "output_type": "execute_result"
    },
    {
     "data": {
      "image/png": "[encoded data removed]",
      "text/plain": [
       "<matplotlib.figure.Figure at 0x7f87b28d59e8>"
      ]
     },
     "metadata": {
      "needs_background": "light"
     },
     "output_type": "display_data"
    }
   ],
   "source": [
    "#Largura das barras\n",
    "#não pode ser muito maior por causa da escala do gráfico\n",
    "barWidth = 0.3 \n",
    "\n",
    "#Definindo posição de cada coluna\n",
    "#[0,1,2,3, 4] é a posição X no gráfico de cada elemento\n",
    "#essa segunda coluna estará logo após terminar a largura da primeira\n",
    "posicao_preTest = np.arange(len(df))\n",
    "posicao_posTest = [i + barWidth for i in posicao_preTest]\n",
    "\n",
    "#Criar as barras\n",
    "plt.bar(posicao_preTest, df.preTestScore, width=barWidth, color=rosa, label='PreTest Score')\n",
    "plt.bar(posicao_posTest, df.posTestScore, width=barWidth, color=azul, label='PosTest Score')\n",
    "\n",
    "#Configurar os labels\n",
    "plt.xlabel('Persons')\n",
    "plt.ylabel('Score')\n",
    "plt.title('Test Scores')\n",
    "\n",
    "#Posicionar os labels adequadamente, no meio entre as barras\n",
    "plt.xticks([x + barWidth/2 for x in posicao_preTest], df.first_name.values)\n",
    "\n",
    "#Apresentar legenda\n",
    "plt.legend()"
   ]
  },
  {
   "cell_type": "code",
   "execution_count": null,
   "metadata": {},
   "outputs": [],
   "source": []
  }
 ],
 "metadata": {
  "kernelspec": {
   "display_name": "Python 3",
   "language": "python",
   "name": "python3"
  },
  "language_info": {
   "codemirror_mode": {
    "name": "ipython",
    "version": 3
   },
   "file_extension": ".py",
   "mimetype": "text/x-python",
   "name": "python",
   "nbconvert_exporter": "python",
   "pygments_lexer": "ipython3",
   "version": "3.6.6"
  }
 },
 "nbformat": 4,
 "nbformat_minor": 1
}
