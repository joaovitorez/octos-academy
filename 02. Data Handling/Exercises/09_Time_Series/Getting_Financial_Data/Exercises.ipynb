{
 "cells": [
  {
   "cell_type": "markdown",
   "metadata": {},
   "source": [
    "# Getting Financial Data - Google Finance"
   ]
  },
  {
   "cell_type": "markdown",
   "metadata": {},
   "source": [
    "### Introduction:\n",
    "\n",
    "This time you will get data from a website.\n",
    "\n",
    "\n",
    "### Step 1. Import the necessary libraries"
   ]
  },
  {
   "cell_type": "code",
   "execution_count": 176,
   "metadata": {},
   "outputs": [],
   "source": [
    "import pandas as pd\n",
    "import pandas_datareader.data as web\n",
    "import numpy as np\n",
    "import seaborn as sns\n",
    "import matplotlib.pyplot as plt\n",
    "\n",
    "%matplotlib inline"
   ]
  },
  {
   "cell_type": "markdown",
   "metadata": {},
   "source": [
    "### Step 2. Create your time range (start and end variables). The start date should be 01/01/2015 and the end should today (whatever your today is)"
   ]
  },
  {
   "cell_type": "code",
   "execution_count": 177,
   "metadata": {},
   "outputs": [
    {
     "data": {
      "text/plain": [
       "DatetimeIndex(['2015-01-01', '2015-01-02', '2015-01-03', '2015-01-04',\n",
       "               '2015-01-05', '2015-01-06', '2015-01-07', '2015-01-08',\n",
       "               '2015-01-09', '2015-01-10',\n",
       "               ...\n",
       "               '2020-07-25', '2020-07-26', '2020-07-27', '2020-07-28',\n",
       "               '2020-07-29', '2020-07-30', '2020-07-31', '2020-08-01',\n",
       "               '2020-08-02', '2020-08-03'],\n",
       "              dtype='datetime64[ns]', length=2042, freq='D')"
      ]
     },
     "execution_count": 177,
     "metadata": {},
     "output_type": "execute_result"
    }
   ],
   "source": [
    "#Date_range recebe no formato AAAA/MM/DD\n",
    "\n",
    "time_range = pd.date_range(start='2015/01/01', end='2020/08/03')\n",
    "time_range"
   ]
  },
  {
   "cell_type": "markdown",
   "metadata": {},
   "source": [
    "### Step 3. Select the Apple, Tesla, Twitter, IBM, LinkedIn stocks symbols and assign them to a variable called stocks"
   ]
  },
  {
   "cell_type": "code",
   "execution_count": 178,
   "metadata": {},
   "outputs": [],
   "source": [
    "stocks = ['AAPL', 'TSLA', 'IBM', 'LNKD']"
   ]
  },
  {
   "cell_type": "markdown",
   "metadata": {},
   "source": [
    "### Step 4. Read the data from google, assign to df and print it"
   ]
  },
  {
   "cell_type": "code",
   "execution_count": 179,
   "metadata": {},
   "outputs": [
    {
     "data": {
      "text/html": [
       "<div>\n",
       "<style scoped>\n",
       "    .dataframe tbody tr th:only-of-type {\n",
       "        vertical-align: middle;\n",
       "    }\n",
       "\n",
       "    .dataframe tbody tr th {\n",
       "        vertical-align: top;\n",
       "    }\n",
       "\n",
       "    .dataframe thead tr th {\n",
       "        text-align: left;\n",
       "    }\n",
       "\n",
       "    .dataframe thead tr:last-of-type th {\n",
       "        text-align: right;\n",
       "    }\n",
       "</style>\n",
       "<table border=\"1\" class=\"dataframe\">\n",
       "  <thead>\n",
       "    <tr>\n",
       "      <th>Attributes</th>\n",
       "      <th colspan=\"5\" halign=\"left\">Adj Close</th>\n",
       "      <th colspan=\"5\" halign=\"left\">Close</th>\n",
       "      <th>...</th>\n",
       "      <th colspan=\"5\" halign=\"left\">Open</th>\n",
       "      <th colspan=\"5\" halign=\"left\">Volume</th>\n",
       "    </tr>\n",
       "    <tr>\n",
       "      <th>Symbols</th>\n",
       "      <th>AAPL</th>\n",
       "      <th>GE</th>\n",
       "      <th>GOOG</th>\n",
       "      <th>IBM</th>\n",
       "      <th>MSFT</th>\n",
       "      <th>AAPL</th>\n",
       "      <th>GE</th>\n",
       "      <th>GOOG</th>\n",
       "      <th>IBM</th>\n",
       "      <th>MSFT</th>\n",
       "      <th>...</th>\n",
       "      <th>AAPL</th>\n",
       "      <th>GE</th>\n",
       "      <th>GOOG</th>\n",
       "      <th>IBM</th>\n",
       "      <th>MSFT</th>\n",
       "      <th>AAPL</th>\n",
       "      <th>GE</th>\n",
       "      <th>GOOG</th>\n",
       "      <th>IBM</th>\n",
       "      <th>MSFT</th>\n",
       "    </tr>\n",
       "    <tr>\n",
       "      <th>Date</th>\n",
       "      <th></th>\n",
       "      <th></th>\n",
       "      <th></th>\n",
       "      <th></th>\n",
       "      <th></th>\n",
       "      <th></th>\n",
       "      <th></th>\n",
       "      <th></th>\n",
       "      <th></th>\n",
       "      <th></th>\n",
       "      <th></th>\n",
       "      <th></th>\n",
       "      <th></th>\n",
       "      <th></th>\n",
       "      <th></th>\n",
       "      <th></th>\n",
       "      <th></th>\n",
       "      <th></th>\n",
       "      <th></th>\n",
       "      <th></th>\n",
       "      <th></th>\n",
       "    </tr>\n",
       "  </thead>\n",
       "  <tbody>\n",
       "    <tr>\n",
       "      <th>2015-01-02</th>\n",
       "      <td>99.766006</td>\n",
       "      <td>20.674500</td>\n",
       "      <td>523.373108</td>\n",
       "      <td>125.882919</td>\n",
       "      <td>41.748566</td>\n",
       "      <td>109.330002</td>\n",
       "      <td>24.096153</td>\n",
       "      <td>523.373108</td>\n",
       "      <td>162.059998</td>\n",
       "      <td>46.759998</td>\n",
       "      <td>...</td>\n",
       "      <td>111.389999</td>\n",
       "      <td>24.365385</td>\n",
       "      <td>527.561584</td>\n",
       "      <td>161.309998</td>\n",
       "      <td>46.660000</td>\n",
       "      <td>53204600.0</td>\n",
       "      <td>42557600.0</td>\n",
       "      <td>1447500.0</td>\n",
       "      <td>5525500.0</td>\n",
       "      <td>27913900.0</td>\n",
       "    </tr>\n",
       "    <tr>\n",
       "      <th>2015-01-05</th>\n",
       "      <td>96.955429</td>\n",
       "      <td>20.295000</td>\n",
       "      <td>512.463013</td>\n",
       "      <td>123.902168</td>\n",
       "      <td>41.364658</td>\n",
       "      <td>106.250000</td>\n",
       "      <td>23.653847</td>\n",
       "      <td>512.463013</td>\n",
       "      <td>159.509995</td>\n",
       "      <td>46.330002</td>\n",
       "      <td>...</td>\n",
       "      <td>108.290001</td>\n",
       "      <td>24.048077</td>\n",
       "      <td>521.827332</td>\n",
       "      <td>161.270004</td>\n",
       "      <td>46.369999</td>\n",
       "      <td>64285500.0</td>\n",
       "      <td>43714500.0</td>\n",
       "      <td>2059800.0</td>\n",
       "      <td>4880400.0</td>\n",
       "      <td>39673900.0</td>\n",
       "    </tr>\n",
       "    <tr>\n",
       "      <th>2015-01-06</th>\n",
       "      <td>96.964584</td>\n",
       "      <td>19.857750</td>\n",
       "      <td>500.585632</td>\n",
       "      <td>121.230103</td>\n",
       "      <td>40.757530</td>\n",
       "      <td>106.260002</td>\n",
       "      <td>23.144230</td>\n",
       "      <td>500.585632</td>\n",
       "      <td>156.070007</td>\n",
       "      <td>45.650002</td>\n",
       "      <td>...</td>\n",
       "      <td>106.540001</td>\n",
       "      <td>23.519230</td>\n",
       "      <td>513.589966</td>\n",
       "      <td>159.669998</td>\n",
       "      <td>46.380001</td>\n",
       "      <td>65797100.0</td>\n",
       "      <td>66310400.0</td>\n",
       "      <td>2899900.0</td>\n",
       "      <td>6146700.0</td>\n",
       "      <td>36447900.0</td>\n",
       "    </tr>\n",
       "    <tr>\n",
       "      <th>2015-01-07</th>\n",
       "      <td>98.324242</td>\n",
       "      <td>19.866001</td>\n",
       "      <td>499.727997</td>\n",
       "      <td>120.437820</td>\n",
       "      <td>41.275364</td>\n",
       "      <td>107.750000</td>\n",
       "      <td>23.153847</td>\n",
       "      <td>499.727997</td>\n",
       "      <td>155.050003</td>\n",
       "      <td>46.230000</td>\n",
       "      <td>...</td>\n",
       "      <td>107.199997</td>\n",
       "      <td>23.278847</td>\n",
       "      <td>505.611847</td>\n",
       "      <td>157.199997</td>\n",
       "      <td>45.980000</td>\n",
       "      <td>40105900.0</td>\n",
       "      <td>45388200.0</td>\n",
       "      <td>2065000.0</td>\n",
       "      <td>4701800.0</td>\n",
       "      <td>29114100.0</td>\n",
       "    </tr>\n",
       "    <tr>\n",
       "      <th>2015-01-08</th>\n",
       "      <td>102.102089</td>\n",
       "      <td>20.105247</td>\n",
       "      <td>501.303680</td>\n",
       "      <td>123.055511</td>\n",
       "      <td>42.489609</td>\n",
       "      <td>111.889999</td>\n",
       "      <td>23.432692</td>\n",
       "      <td>501.303680</td>\n",
       "      <td>158.419998</td>\n",
       "      <td>47.590000</td>\n",
       "      <td>...</td>\n",
       "      <td>109.230003</td>\n",
       "      <td>23.384615</td>\n",
       "      <td>496.626526</td>\n",
       "      <td>156.240005</td>\n",
       "      <td>46.750000</td>\n",
       "      <td>59364500.0</td>\n",
       "      <td>44953300.0</td>\n",
       "      <td>3353500.0</td>\n",
       "      <td>4236800.0</td>\n",
       "      <td>29645200.0</td>\n",
       "    </tr>\n",
       "  </tbody>\n",
       "</table>\n",
       "<p>5 rows × 30 columns</p>\n",
       "</div>"
      ],
      "text/plain": [
       "Attributes   Adj Close                                                \\\n",
       "Symbols           AAPL         GE        GOOG         IBM       MSFT   \n",
       "Date                                                                   \n",
       "2015-01-02   99.766006  20.674500  523.373108  125.882919  41.748566   \n",
       "2015-01-05   96.955429  20.295000  512.463013  123.902168  41.364658   \n",
       "2015-01-06   96.964584  19.857750  500.585632  121.230103  40.757530   \n",
       "2015-01-07   98.324242  19.866001  499.727997  120.437820  41.275364   \n",
       "2015-01-08  102.102089  20.105247  501.303680  123.055511  42.489609   \n",
       "\n",
       "Attributes       Close                                                ...  \\\n",
       "Symbols           AAPL         GE        GOOG         IBM       MSFT  ...   \n",
       "Date                                                                  ...   \n",
       "2015-01-02  109.330002  24.096153  523.373108  162.059998  46.759998  ...   \n",
       "2015-01-05  106.250000  23.653847  512.463013  159.509995  46.330002  ...   \n",
       "2015-01-06  106.260002  23.144230  500.585632  156.070007  45.650002  ...   \n",
       "2015-01-07  107.750000  23.153847  499.727997  155.050003  46.230000  ...   \n",
       "2015-01-08  111.889999  23.432692  501.303680  158.419998  47.590000  ...   \n",
       "\n",
       "Attributes        Open                                                \\\n",
       "Symbols           AAPL         GE        GOOG         IBM       MSFT   \n",
       "Date                                                                   \n",
       "2015-01-02  111.389999  24.365385  527.561584  161.309998  46.660000   \n",
       "2015-01-05  108.290001  24.048077  521.827332  161.270004  46.369999   \n",
       "2015-01-06  106.540001  23.519230  513.589966  159.669998  46.380001   \n",
       "2015-01-07  107.199997  23.278847  505.611847  157.199997  45.980000   \n",
       "2015-01-08  109.230003  23.384615  496.626526  156.240005  46.750000   \n",
       "\n",
       "Attributes      Volume                                                \n",
       "Symbols           AAPL          GE       GOOG        IBM        MSFT  \n",
       "Date                                                                  \n",
       "2015-01-02  53204600.0  42557600.0  1447500.0  5525500.0  27913900.0  \n",
       "2015-01-05  64285500.0  43714500.0  2059800.0  4880400.0  39673900.0  \n",
       "2015-01-06  65797100.0  66310400.0  2899900.0  6146700.0  36447900.0  \n",
       "2015-01-07  40105900.0  45388200.0  2065000.0  4701800.0  29114100.0  \n",
       "2015-01-08  59364500.0  44953300.0  3353500.0  4236800.0  29645200.0  \n",
       "\n",
       "[5 rows x 30 columns]"
      ]
     },
     "execution_count": 179,
     "metadata": {},
     "output_type": "execute_result"
    }
   ],
   "source": [
    "df = web.DataReader(['AAPL', 'GE', 'GOOG', 'IBM', 'MSFT'], 'yahoo', \n",
    "                    start=time_range[0], end=time_range[-1])\n",
    "df.head()"
   ]
  },
  {
   "cell_type": "markdown",
   "metadata": {},
   "source": [
    "### Step 5.  What is the type of structure of df ?"
   ]
  },
  {
   "cell_type": "code",
   "execution_count": 180,
   "metadata": {},
   "outputs": [
    {
     "name": "stdout",
     "output_type": "stream",
     "text": [
      "<class 'pandas.core.frame.DataFrame'>\n",
      "DatetimeIndex: 1406 entries, 2015-01-02 to 2020-08-03\n",
      "Data columns (total 30 columns):\n",
      " #   Column             Non-Null Count  Dtype  \n",
      "---  ------             --------------  -----  \n",
      " 0   (Adj Close, AAPL)  1406 non-null   float64\n",
      " 1   (Adj Close, GE)    1406 non-null   float64\n",
      " 2   (Adj Close, GOOG)  1406 non-null   float64\n",
      " 3   (Adj Close, IBM)   1406 non-null   float64\n",
      " 4   (Adj Close, MSFT)  1406 non-null   float64\n",
      " 5   (Close, AAPL)      1406 non-null   float64\n",
      " 6   (Close, GE)        1406 non-null   float64\n",
      " 7   (Close, GOOG)      1406 non-null   float64\n",
      " 8   (Close, IBM)       1406 non-null   float64\n",
      " 9   (Close, MSFT)      1406 non-null   float64\n",
      " 10  (High, AAPL)       1406 non-null   float64\n",
      " 11  (High, GE)         1406 non-null   float64\n",
      " 12  (High, GOOG)       1406 non-null   float64\n",
      " 13  (High, IBM)        1406 non-null   float64\n",
      " 14  (High, MSFT)       1406 non-null   float64\n",
      " 15  (Low, AAPL)        1406 non-null   float64\n",
      " 16  (Low, GE)          1406 non-null   float64\n",
      " 17  (Low, GOOG)        1406 non-null   float64\n",
      " 18  (Low, IBM)         1406 non-null   float64\n",
      " 19  (Low, MSFT)        1406 non-null   float64\n",
      " 20  (Open, AAPL)       1406 non-null   float64\n",
      " 21  (Open, GE)         1406 non-null   float64\n",
      " 22  (Open, GOOG)       1406 non-null   float64\n",
      " 23  (Open, IBM)        1406 non-null   float64\n",
      " 24  (Open, MSFT)       1406 non-null   float64\n",
      " 25  (Volume, AAPL)     1406 non-null   float64\n",
      " 26  (Volume, GE)       1406 non-null   float64\n",
      " 27  (Volume, GOOG)     1406 non-null   float64\n",
      " 28  (Volume, IBM)      1406 non-null   float64\n",
      " 29  (Volume, MSFT)     1406 non-null   float64\n",
      "dtypes: float64(30)\n",
      "memory usage: 340.5 KB\n"
     ]
    }
   ],
   "source": [
    "df.info() #multindex (?)"
   ]
  },
  {
   "cell_type": "markdown",
   "metadata": {},
   "source": [
    "### Step 6. Print all the Items axis values\n",
    "#### To learn more about the Panel structure go to [documentation](http://pandas.pydata.org/pandas-docs/stable/dsintro.html#panel) "
   ]
  },
  {
   "cell_type": "code",
   "execution_count": 181,
   "metadata": {},
   "outputs": [
    {
     "data": {
      "text/plain": [
       "<bound method DataFrame.items of Attributes   Adj Close                                                  \\\n",
       "Symbols           AAPL         GE         GOOG         IBM        MSFT   \n",
       "Date                                                                     \n",
       "2015-01-02   99.766006  20.674500   523.373108  125.882919   41.748566   \n",
       "2015-01-05   96.955429  20.295000   512.463013  123.902168   41.364658   \n",
       "2015-01-06   96.964584  19.857750   500.585632  121.230103   40.757530   \n",
       "2015-01-07   98.324242  19.866001   499.727997  120.437820   41.275364   \n",
       "2015-01-08  102.102089  20.105247   501.303680  123.055511   42.489609   \n",
       "...                ...        ...          ...         ...         ...   \n",
       "2020-07-28  372.338684   6.890000  1500.339966  122.861328  202.020004   \n",
       "2020-07-29  379.475800   6.590000  1522.020020  123.700340  204.059998   \n",
       "2020-07-30  384.067535   6.260000  1531.449951  121.311615  203.899994   \n",
       "2020-07-31  424.275024   6.070000  1482.959961  121.351105  205.009995   \n",
       "2020-08-03  434.965759   6.110000  1474.449951  122.703392  216.539993   \n",
       "\n",
       "Attributes       Close                                                  ...  \\\n",
       "Symbols           AAPL         GE         GOOG         IBM        MSFT  ...   \n",
       "Date                                                                    ...   \n",
       "2015-01-02  109.330002  24.096153   523.373108  162.059998   46.759998  ...   \n",
       "2015-01-05  106.250000  23.653847   512.463013  159.509995   46.330002  ...   \n",
       "2015-01-06  106.260002  23.144230   500.585632  156.070007   45.650002  ...   \n",
       "2015-01-07  107.750000  23.153847   499.727997  155.050003   46.230000  ...   \n",
       "2015-01-08  111.889999  23.432692   501.303680  158.419998   47.590000  ...   \n",
       "...                ...        ...          ...         ...         ...  ...   \n",
       "2020-07-28  373.010010   6.890000  1500.339966  124.470001  202.020004  ...   \n",
       "2020-07-29  380.160004   6.590000  1522.020020  125.320000  204.059998  ...   \n",
       "2020-07-30  384.760010   6.260000  1531.449951  122.900002  203.899994  ...   \n",
       "2020-07-31  425.040009   6.070000  1482.959961  122.940002  205.009995  ...   \n",
       "2020-08-03  435.750000   6.110000  1474.449951  124.309998  216.539993  ...   \n",
       "\n",
       "Attributes        Open                                                  \\\n",
       "Symbols           AAPL         GE         GOOG         IBM        MSFT   \n",
       "Date                                                                     \n",
       "2015-01-02  111.389999  24.365385   527.561584  161.309998   46.660000   \n",
       "2015-01-05  108.290001  24.048077   521.827332  161.270004   46.369999   \n",
       "2015-01-06  106.540001  23.519230   513.589966  159.669998   46.380001   \n",
       "2015-01-07  107.199997  23.278847   505.611847  157.199997   45.980000   \n",
       "2015-01-08  109.230003  23.384615   496.626526  156.240005   46.750000   \n",
       "...                ...        ...          ...         ...         ...   \n",
       "2020-07-28  377.470001   6.700000  1525.180054  125.820000  203.610001   \n",
       "2020-07-29  375.000000   6.990000  1506.319946  124.559998  202.500000   \n",
       "2020-07-30  376.750000   6.500000  1497.000000  123.709999  201.000000   \n",
       "2020-07-31  411.540009   6.250000  1505.010010  122.709999  204.399994   \n",
       "2020-08-03  432.799988   6.140000  1486.640015  123.500000  211.520004   \n",
       "\n",
       "Attributes      Volume                                                 \n",
       "Symbols           AAPL           GE       GOOG        IBM        MSFT  \n",
       "Date                                                                   \n",
       "2015-01-02  53204600.0   42557600.0  1447500.0  5525500.0  27913900.0  \n",
       "2015-01-05  64285500.0   43714500.0  2059800.0  4880400.0  39673900.0  \n",
       "2015-01-06  65797100.0   66310400.0  2899900.0  6146700.0  36447900.0  \n",
       "2015-01-07  40105900.0   45388200.0  2065000.0  4701800.0  29114100.0  \n",
       "2015-01-08  59364500.0   44953300.0  3353500.0  4236800.0  29645200.0  \n",
       "...                ...          ...        ...        ...         ...  \n",
       "2020-07-28  25906400.0   76033600.0  1702200.0  4178200.0  23251400.0  \n",
       "2020-07-29  22582300.0  148442400.0  1106500.0  2832800.0  19632600.0  \n",
       "2020-07-30  39532500.0  127526900.0  1671400.0  3988100.0  25079600.0  \n",
       "2020-07-31  93584200.0  142731700.0  3439900.0  5277700.0  51248000.0  \n",
       "2020-08-03  77037800.0   89769500.0  2330200.0  3526100.0  78983000.0  \n",
       "\n",
       "[1406 rows x 30 columns]>"
      ]
     },
     "execution_count": 181,
     "metadata": {},
     "output_type": "execute_result"
    }
   ],
   "source": [
    "df.items"
   ]
  },
  {
   "cell_type": "markdown",
   "metadata": {},
   "source": [
    "### Step 7. Good, now we know  the data avaiable. Create a dataFrame called vol, with the Volume values."
   ]
  },
  {
   "cell_type": "code",
   "execution_count": 182,
   "metadata": {},
   "outputs": [
    {
     "data": {
      "text/html": [
       "<div>\n",
       "<style scoped>\n",
       "    .dataframe tbody tr th:only-of-type {\n",
       "        vertical-align: middle;\n",
       "    }\n",
       "\n",
       "    .dataframe tbody tr th {\n",
       "        vertical-align: top;\n",
       "    }\n",
       "\n",
       "    .dataframe thead th {\n",
       "        text-align: right;\n",
       "    }\n",
       "</style>\n",
       "<table border=\"1\" class=\"dataframe\">\n",
       "  <thead>\n",
       "    <tr style=\"text-align: right;\">\n",
       "      <th>Symbols</th>\n",
       "      <th>AAPL</th>\n",
       "      <th>GE</th>\n",
       "      <th>GOOG</th>\n",
       "      <th>IBM</th>\n",
       "      <th>MSFT</th>\n",
       "    </tr>\n",
       "    <tr>\n",
       "      <th>Date</th>\n",
       "      <th></th>\n",
       "      <th></th>\n",
       "      <th></th>\n",
       "      <th></th>\n",
       "      <th></th>\n",
       "    </tr>\n",
       "  </thead>\n",
       "  <tbody>\n",
       "    <tr>\n",
       "      <th>2015-01-02</th>\n",
       "      <td>53204600.0</td>\n",
       "      <td>42557600.0</td>\n",
       "      <td>1447500.0</td>\n",
       "      <td>5525500.0</td>\n",
       "      <td>27913900.0</td>\n",
       "    </tr>\n",
       "    <tr>\n",
       "      <th>2015-01-05</th>\n",
       "      <td>64285500.0</td>\n",
       "      <td>43714500.0</td>\n",
       "      <td>2059800.0</td>\n",
       "      <td>4880400.0</td>\n",
       "      <td>39673900.0</td>\n",
       "    </tr>\n",
       "    <tr>\n",
       "      <th>2015-01-06</th>\n",
       "      <td>65797100.0</td>\n",
       "      <td>66310400.0</td>\n",
       "      <td>2899900.0</td>\n",
       "      <td>6146700.0</td>\n",
       "      <td>36447900.0</td>\n",
       "    </tr>\n",
       "    <tr>\n",
       "      <th>2015-01-07</th>\n",
       "      <td>40105900.0</td>\n",
       "      <td>45388200.0</td>\n",
       "      <td>2065000.0</td>\n",
       "      <td>4701800.0</td>\n",
       "      <td>29114100.0</td>\n",
       "    </tr>\n",
       "    <tr>\n",
       "      <th>2015-01-08</th>\n",
       "      <td>59364500.0</td>\n",
       "      <td>44953300.0</td>\n",
       "      <td>3353500.0</td>\n",
       "      <td>4236800.0</td>\n",
       "      <td>29645200.0</td>\n",
       "    </tr>\n",
       "  </tbody>\n",
       "</table>\n",
       "</div>"
      ],
      "text/plain": [
       "Symbols           AAPL          GE       GOOG        IBM        MSFT\n",
       "Date                                                                \n",
       "2015-01-02  53204600.0  42557600.0  1447500.0  5525500.0  27913900.0\n",
       "2015-01-05  64285500.0  43714500.0  2059800.0  4880400.0  39673900.0\n",
       "2015-01-06  65797100.0  66310400.0  2899900.0  6146700.0  36447900.0\n",
       "2015-01-07  40105900.0  45388200.0  2065000.0  4701800.0  29114100.0\n",
       "2015-01-08  59364500.0  44953300.0  3353500.0  4236800.0  29645200.0"
      ]
     },
     "execution_count": 182,
     "metadata": {},
     "output_type": "execute_result"
    }
   ],
   "source": [
    "vol = df.loc[:,'Volume']\n",
    "vol.head()"
   ]
  },
  {
   "cell_type": "markdown",
   "metadata": {},
   "source": [
    "### Step 8. Aggregate the data of Volume to weekly\n",
    "#### Hint: Be careful to not sum data from the same week of 2015 and other years."
   ]
  },
  {
   "cell_type": "code",
   "execution_count": 183,
   "metadata": {
    "scrolled": true
   },
   "outputs": [
    {
     "data": {
      "text/html": [
       "<div>\n",
       "<style scoped>\n",
       "    .dataframe tbody tr th:only-of-type {\n",
       "        vertical-align: middle;\n",
       "    }\n",
       "\n",
       "    .dataframe tbody tr th {\n",
       "        vertical-align: top;\n",
       "    }\n",
       "\n",
       "    .dataframe thead th {\n",
       "        text-align: right;\n",
       "    }\n",
       "</style>\n",
       "<table border=\"1\" class=\"dataframe\">\n",
       "  <thead>\n",
       "    <tr style=\"text-align: right;\">\n",
       "      <th>Symbols</th>\n",
       "      <th>AAPL</th>\n",
       "      <th>GE</th>\n",
       "      <th>GOOG</th>\n",
       "      <th>IBM</th>\n",
       "      <th>MSFT</th>\n",
       "    </tr>\n",
       "    <tr>\n",
       "      <th>Date</th>\n",
       "      <th></th>\n",
       "      <th></th>\n",
       "      <th></th>\n",
       "      <th></th>\n",
       "      <th></th>\n",
       "    </tr>\n",
       "  </thead>\n",
       "  <tbody>\n",
       "    <tr>\n",
       "      <th>2015-01-04</th>\n",
       "      <td>53204600.0</td>\n",
       "      <td>42557600.0</td>\n",
       "      <td>1447500.0</td>\n",
       "      <td>5525500.0</td>\n",
       "      <td>27913900.0</td>\n",
       "    </tr>\n",
       "    <tr>\n",
       "      <th>2015-01-11</th>\n",
       "      <td>283252500.0</td>\n",
       "      <td>245223800.0</td>\n",
       "      <td>12449500.0</td>\n",
       "      <td>24454000.0</td>\n",
       "      <td>158825300.0</td>\n",
       "    </tr>\n",
       "    <tr>\n",
       "      <th>2015-01-18</th>\n",
       "      <td>304226600.0</td>\n",
       "      <td>215455300.0</td>\n",
       "      <td>11946800.0</td>\n",
       "      <td>23259800.0</td>\n",
       "      <td>157088200.0</td>\n",
       "    </tr>\n",
       "    <tr>\n",
       "      <th>2015-01-25</th>\n",
       "      <td>198737000.0</td>\n",
       "      <td>200772200.0</td>\n",
       "      <td>9459300.0</td>\n",
       "      <td>31244800.0</td>\n",
       "      <td>137352600.0</td>\n",
       "    </tr>\n",
       "    <tr>\n",
       "      <th>2015-02-01</th>\n",
       "      <td>465842700.0</td>\n",
       "      <td>231270100.0</td>\n",
       "      <td>14924100.0</td>\n",
       "      <td>32928000.0</td>\n",
       "      <td>437786800.0</td>\n",
       "    </tr>\n",
       "  </tbody>\n",
       "</table>\n",
       "</div>"
      ],
      "text/plain": [
       "Symbols            AAPL           GE        GOOG         IBM         MSFT\n",
       "Date                                                                     \n",
       "2015-01-04   53204600.0   42557600.0   1447500.0   5525500.0   27913900.0\n",
       "2015-01-11  283252500.0  245223800.0  12449500.0  24454000.0  158825300.0\n",
       "2015-01-18  304226600.0  215455300.0  11946800.0  23259800.0  157088200.0\n",
       "2015-01-25  198737000.0  200772200.0   9459300.0  31244800.0  137352600.0\n",
       "2015-02-01  465842700.0  231270100.0  14924100.0  32928000.0  437786800.0"
      ]
     },
     "execution_count": 183,
     "metadata": {},
     "output_type": "execute_result"
    }
   ],
   "source": [
    "step8 = vol.resample('W').sum()\n",
    "step8.head()"
   ]
  },
  {
   "cell_type": "markdown",
   "metadata": {},
   "source": [
    "### Step 9. Find all the volume traded in the year of 2015"
   ]
  },
  {
   "cell_type": "code",
   "execution_count": 184,
   "metadata": {},
   "outputs": [
    {
     "data": {
      "text/plain": [
       "37521593700.0"
      ]
     },
     "execution_count": 184,
     "metadata": {},
     "output_type": "execute_result"
    }
   ],
   "source": [
    "vol[vol.index.year==2015].sum().sum()"
   ]
  },
  {
   "cell_type": "markdown",
   "metadata": {},
   "source": [
    "### BONUS: Create your own question and answer it."
   ]
  },
  {
   "cell_type": "code",
   "execution_count": 185,
   "metadata": {},
   "outputs": [
    {
     "data": {
      "text/html": [
       "<div>\n",
       "<style scoped>\n",
       "    .dataframe tbody tr th:only-of-type {\n",
       "        vertical-align: middle;\n",
       "    }\n",
       "\n",
       "    .dataframe tbody tr th {\n",
       "        vertical-align: top;\n",
       "    }\n",
       "\n",
       "    .dataframe thead th {\n",
       "        text-align: right;\n",
       "    }\n",
       "</style>\n",
       "<table border=\"1\" class=\"dataframe\">\n",
       "  <thead>\n",
       "    <tr style=\"text-align: right;\">\n",
       "      <th>Symbols</th>\n",
       "      <th>AAPL</th>\n",
       "      <th>GE</th>\n",
       "      <th>GOOG</th>\n",
       "      <th>IBM</th>\n",
       "      <th>MSFT</th>\n",
       "    </tr>\n",
       "    <tr>\n",
       "      <th>Date</th>\n",
       "      <th></th>\n",
       "      <th></th>\n",
       "      <th></th>\n",
       "      <th></th>\n",
       "      <th></th>\n",
       "    </tr>\n",
       "  </thead>\n",
       "  <tbody>\n",
       "    <tr>\n",
       "      <th>2015-01-01</th>\n",
       "      <td>5.869575e+07</td>\n",
       "      <td>3.954393e+07</td>\n",
       "      <td>1.991298e+06</td>\n",
       "      <td>4.917713e+06</td>\n",
       "      <td>3.934118e+07</td>\n",
       "    </tr>\n",
       "    <tr>\n",
       "      <th>2015-04-01</th>\n",
       "      <td>4.490308e+07</td>\n",
       "      <td>4.487852e+07</td>\n",
       "      <td>1.723224e+06</td>\n",
       "      <td>3.692262e+06</td>\n",
       "      <td>3.448352e+07</td>\n",
       "    </tr>\n",
       "    <tr>\n",
       "      <th>2015-07-01</th>\n",
       "      <td>6.049448e+07</td>\n",
       "      <td>3.775877e+07</td>\n",
       "      <td>2.577991e+06</td>\n",
       "      <td>4.209311e+06</td>\n",
       "      <td>3.398466e+07</td>\n",
       "    </tr>\n",
       "    <tr>\n",
       "      <th>2015-10-01</th>\n",
       "      <td>4.351669e+07</td>\n",
       "      <td>9.551438e+07</td>\n",
       "      <td>1.976152e+06</td>\n",
       "      <td>4.743652e+06</td>\n",
       "      <td>3.612757e+07</td>\n",
       "    </tr>\n",
       "    <tr>\n",
       "      <th>2016-01-01</th>\n",
       "      <td>4.637312e+07</td>\n",
       "      <td>4.675695e+07</td>\n",
       "      <td>2.502797e+06</td>\n",
       "      <td>5.552387e+06</td>\n",
       "      <td>3.907863e+07</td>\n",
       "    </tr>\n",
       "  </tbody>\n",
       "</table>\n",
       "</div>"
      ],
      "text/plain": [
       "Symbols             AAPL            GE          GOOG           IBM  \\\n",
       "Date                                                                 \n",
       "2015-01-01  5.869575e+07  3.954393e+07  1.991298e+06  4.917713e+06   \n",
       "2015-04-01  4.490308e+07  4.487852e+07  1.723224e+06  3.692262e+06   \n",
       "2015-07-01  6.049448e+07  3.775877e+07  2.577991e+06  4.209311e+06   \n",
       "2015-10-01  4.351669e+07  9.551438e+07  1.976152e+06  4.743652e+06   \n",
       "2016-01-01  4.637312e+07  4.675695e+07  2.502797e+06  5.552387e+06   \n",
       "\n",
       "Symbols             MSFT  \n",
       "Date                      \n",
       "2015-01-01  3.934118e+07  \n",
       "2015-04-01  3.448352e+07  \n",
       "2015-07-01  3.398466e+07  \n",
       "2015-10-01  3.612757e+07  \n",
       "2016-01-01  3.907863e+07  "
      ]
     },
     "execution_count": 185,
     "metadata": {},
     "output_type": "execute_result"
    }
   ],
   "source": [
    "bonus = vol.resample('QS').mean()\n",
    "bonus.head()"
   ]
  },
  {
   "cell_type": "code",
   "execution_count": 186,
   "metadata": {},
   "outputs": [
    {
     "data": {
      "image/png": "[encoded data removed]",
      "text/plain": [
       "<Figure size 432x288 with 1 Axes>"
      ]
     },
     "metadata": {
      "needs_background": "light"
     },
     "output_type": "display_data"
    }
   ],
   "source": [
    "sns.stripplot(data=bonus)\n",
    "\n",
    "plt.title('Average volume distribution in quarters')\n",
    "plt.ylabel('Volume')\n",
    "plt.show()"
   ]
  },
  {
   "cell_type": "markdown",
   "metadata": {},
   "source": [
    "Gráfico bem simples para mostrar que o volume médio de transação das ações dessas gigantes multinacionais têm uma distribuição bem polarizada: enquanto a Google e a IBM possuem tal índice bastante estável ao longo dos anos, a GE por exemplo tem uma distribuição bem maior. Isso talvez diz respeito à confiança dos acionistas na empresa durante esses períodos. O gráfico abaixo também exibe essa flutuação com clareza."
   ]
  },
  {
   "cell_type": "code",
   "execution_count": 187,
   "metadata": {},
   "outputs": [
    {
     "data": {
      "image/png": "[encoded data removed]",
      "text/plain": [
       "<Figure size 432x288 with 1 Axes>"
      ]
     },
     "metadata": {
      "needs_background": "light"
     },
     "output_type": "display_data"
    }
   ],
   "source": [
    "sns.lineplot(data=bonus)\n",
    "\n",
    "plt.title('Volume transactions')\n",
    "plt.ylabel('Volume')\n",
    "plt.show()"
   ]
  }
 ],
 "metadata": {
  "kernelspec": {
   "display_name": "Python 3",
   "language": "python",
   "name": "python3"
  },
  "language_info": {
   "codemirror_mode": {
    "name": "ipython",
    "version": 3
   },
   "file_extension": ".py",
   "mimetype": "text/x-python",
   "name": "python",
   "nbconvert_exporter": "python",
   "pygments_lexer": "ipython3",
   "version": "3.6.10"
  }
 },
 "nbformat": 4,
 "nbformat_minor": 1
}
